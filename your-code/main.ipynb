{
  "nbformat": 4,
  "nbformat_minor": 0,
  "metadata": {
    "kernelspec": {
      "display_name": "Python 3",
      "language": "python",
      "name": "python3"
    },
    "language_info": {
      "codemirror_mode": {
        "name": "ipython",
        "version": 3
      },
      "file_extension": ".py",
      "mimetype": "text/x-python",
      "name": "python",
      "nbconvert_exporter": "python",
      "pygments_lexer": "ipython3",
      "version": "3.6.6"
    },
    "colab": {
      "name": "main.ipynb",
      "provenance": []
    }
  },
  "cells": [
    {
      "cell_type": "markdown",
      "metadata": {
        "id": "NHyGTgsl_QZ0",
        "colab_type": "text"
      },
      "source": [
        "# Before your start:\n",
        "- Read the README.md file\n",
        "- Comment as much as you can and use the resources (README.md file)\n",
        "- Happy learning!"
      ]
    },
    {
      "cell_type": "code",
      "metadata": {
        "id": "8sh0xpAq_QZ1",
        "colab_type": "code",
        "colab": {}
      },
      "source": [
        "%matplotlib inline\n",
        "import matplotlib.pyplot as plt"
      ],
      "execution_count": 1,
      "outputs": []
    },
    {
      "cell_type": "code",
      "metadata": {
        "id": "XkRbr8Na_QZ7",
        "colab_type": "code",
        "colab": {}
      },
      "source": [
        "import numpy as np\n",
        "import pandas as pd"
      ],
      "execution_count": 19,
      "outputs": []
    },
    {
      "cell_type": "markdown",
      "metadata": {
        "id": "mtFQgc_q_QaB",
        "colab_type": "text"
      },
      "source": [
        "# Challenge 1 - Reading and Standardizing the Data\n",
        "\n",
        "In this challenge we will work with image data and reduce the dimensions of the data to create a 2 dimensional plot. While we have not worked much with image data before, it can be represented as a numpy array where each pixel is assigned a numeric value. In this lesson, we will look at a dataset of cats and a dataset of dogs and see whether reducing them to two dimensions allows us to see if the data is separable. We will start by loading and processing the data. Run the cell below to load the two csv files and convert them into numpy arrays."
      ]
    },
    {
      "cell_type": "code",
      "metadata": {
        "id": "iUpqvMh6_QaC",
        "colab_type": "code",
        "colab": {}
      },
      "source": [
        "cats = np.array(pd.read_csv(\"https://raw.githubusercontent.com/bioramble/pca/master/cat.csv\", header=None))\n",
        "dogs = np.array(pd.read_csv(\"https://raw.githubusercontent.com/bioramble/pca/master/dog.csv\", header=None))"
      ],
      "execution_count": 4,
      "outputs": []
    },
    {
      "cell_type": "markdown",
      "metadata": {
        "id": "FdjQG1A-_QaH",
        "colab_type": "text"
      },
      "source": [
        "Next, we'll examine the shape of both the cats and the dogs arrays. Print out both shapes below."
      ]
    },
    {
      "cell_type": "code",
      "metadata": {
        "id": "oNIaF_10_QaI",
        "colab_type": "code",
        "colab": {
          "base_uri": "https://localhost:8080/",
          "height": 136
        },
        "outputId": "964b1520-516c-4ae7-d21f-906689d607c5"
      },
      "source": [
        "cats"
      ],
      "execution_count": 5,
      "outputs": [
        {
          "output_type": "execute_result",
          "data": {
            "text/plain": [
              "array([[ 64,  23, 250, ...,  60, 223, 101],\n",
              "       [ 64,  23, 250, ...,  50, 224, 107],\n",
              "       [ 64,  20, 250, ...,  63, 225, 106],\n",
              "       ...,\n",
              "       [ 64,  31, 244, ..., 105, 180, 114],\n",
              "       [ 64,  23, 232, ..., 118, 182,  91],\n",
              "       [ 61,   9, 244, ..., 104, 177, 113]])"
            ]
          },
          "metadata": {
            "tags": []
          },
          "execution_count": 5
        }
      ]
    },
    {
      "cell_type": "code",
      "metadata": {
        "id": "h071x2HTBg0R",
        "colab_type": "code",
        "colab": {
          "base_uri": "https://localhost:8080/",
          "height": 136
        },
        "outputId": "78c20253-ba5b-4df8-9840-a549d98001b6"
      },
      "source": [
        "dogs"
      ],
      "execution_count": 6,
      "outputs": [
        {
          "output_type": "execute_result",
          "data": {
            "text/plain": [
              "array([[224, 131, 127, ...,   6,  30, 197],\n",
              "       [224, 124, 136, ...,  10,  69, 199],\n",
              "       [224, 104, 127, ...,   6,  69, 195],\n",
              "       ...,\n",
              "       [100, 104, 115, ...,   7, 163, 166],\n",
              "       [100, 124, 104, ...,  10, 140, 170],\n",
              "       [100, 124, 104, ...,   7, 140, 171]])"
            ]
          },
          "metadata": {
            "tags": []
          },
          "execution_count": 6
        }
      ]
    },
    {
      "cell_type": "markdown",
      "metadata": {
        "id": "cayoTNEr_QaR",
        "colab_type": "text"
      },
      "source": [
        "What this means is that both arrays contain 80 images each (the number of columns). Each image is comprised of 64x64 pixels (so a total of 4096 pixels per image). The images have been flattened such that all 4096 are in a single row.\n",
        "\n",
        "Print out column 0 of the cats array to see what the pixels values look like."
      ]
    },
    {
      "cell_type": "code",
      "metadata": {
        "id": "7VyCOxvW_QaT",
        "colab_type": "code",
        "colab": {
          "base_uri": "https://localhost:8080/",
          "height": 34
        },
        "outputId": "b601e6f0-f3ca-412b-f66a-48e221c66073"
      },
      "source": [
        "print(cats[:,0])"
      ],
      "execution_count": 8,
      "outputs": [
        {
          "output_type": "stream",
          "text": [
            "[64 64 64 ... 64 64 61]\n"
          ],
          "name": "stdout"
        }
      ]
    },
    {
      "cell_type": "markdown",
      "metadata": {
        "id": "dcubpoD__QaX",
        "colab_type": "text"
      },
      "source": [
        "Using `matplotlib` we can plot a single cat or a single dog. We do this by reshaping the vector back to a 64x64 image and then using the `imshow` function.\n",
        "\n",
        "Run the code below to look at the first dog and the first cat."
      ]
    },
    {
      "cell_type": "code",
      "metadata": {
        "id": "mhFMFfAF_QaY",
        "colab_type": "code",
        "colab": {
          "base_uri": "https://localhost:8080/",
          "height": 285
        },
        "outputId": "c000f4f3-854f-4169-a3f8-fe6bdd7258df"
      },
      "source": [
        "fig, ax = plt.subplots()\n",
        "ax.imshow(cats[:,0].reshape(64, 64).T, cmap=plt.cm.bone, interpolation='nearest') "
      ],
      "execution_count": 9,
      "outputs": [
        {
          "output_type": "execute_result",
          "data": {
            "text/plain": [
              "<matplotlib.image.AxesImage at 0x7f359961e240>"
            ]
          },
          "metadata": {
            "tags": []
          },
          "execution_count": 9
        },
        {
          "output_type": "display_data",
          "data": {
            "image/png": "[encoded data removed]",
            "text/plain": [
              "<Figure size 432x288 with 1 Axes>"
            ]
          },
          "metadata": {
            "tags": [],
            "needs_background": "light"
          }
        }
      ]
    },
    {
      "cell_type": "code",
      "metadata": {
        "id": "MFRTh9pR_Qaj",
        "colab_type": "code",
        "colab": {
          "base_uri": "https://localhost:8080/",
          "height": 285
        },
        "outputId": "f34729bf-2a96-4c96-e53b-adcc1d20700d"
      },
      "source": [
        "fig, ax = plt.subplots()\n",
        "ax.imshow(dogs[:,0].reshape(64, 64).T, cmap=plt.cm.bone, interpolation='nearest') "
      ],
      "execution_count": 10,
      "outputs": [
        {
          "output_type": "execute_result",
          "data": {
            "text/plain": [
              "<matplotlib.image.AxesImage at 0x7f359961e1d0>"
            ]
          },
          "metadata": {
            "tags": []
          },
          "execution_count": 10
        },
        {
          "output_type": "display_data",
          "data": {
            "image/png": "[encoded data removed]",
            "text/plain": [
              "<Figure size 432x288 with 1 Axes>"
            ]
          },
          "metadata": {
            "tags": [],
            "needs_background": "light"
          }
        }
      ]
    },
    {
      "cell_type": "markdown",
      "metadata": {
        "id": "GFqt0c8W_Qam",
        "colab_type": "text"
      },
      "source": [
        "Next, we would like to create a standardization function. This function will find the mean and standard deviation of each image. We subtract the mean from each pixel and divide each pixel by the standard deviation. Write the function below.\n",
        "\n",
        "Hint: To find the mean and standard deviation of each image, use `numpy`'s version of mean and stadnard deviation and use `axis=0`."
      ]
    },
    {
      "cell_type": "code",
      "metadata": {
        "id": "BFzt0CbA_Qan",
        "colab_type": "code",
        "colab": {}
      },
      "source": [
        "def standardize(x):\n",
        "    mean=np.mean(x)\n",
        "    stdev=np.std(x)\n",
        "    y=(x-mean)/stdev\n",
        "    return y"
      ],
      "execution_count": 11,
      "outputs": []
    },
    {
      "cell_type": "markdown",
      "metadata": {
        "id": "suKi9fek_Qas",
        "colab_type": "text"
      },
      "source": [
        "Now, use the `np.concatenate` function to combine the cats and dogs arrays. Use `axis=1` to combine the two correctly. Make sure to put dogs first."
      ]
    },
    {
      "cell_type": "code",
      "metadata": {
        "id": "tPwQehgO_Qat",
        "colab_type": "code",
        "colab": {}
      },
      "source": [
        "data=np.concatenate([cats,dogs],axis=1)"
      ],
      "execution_count": 13,
      "outputs": []
    },
    {
      "cell_type": "markdown",
      "metadata": {
        "id": "Fro7E4N7_Qaz",
        "colab_type": "text"
      },
      "source": [
        "Standardize the concatenated array below."
      ]
    },
    {
      "cell_type": "code",
      "metadata": {
        "id": "2gf9LLCR_Qa0",
        "colab_type": "code",
        "colab": {}
      },
      "source": [
        "data1=standardize(data)"
      ],
      "execution_count": 14,
      "outputs": []
    },
    {
      "cell_type": "code",
      "metadata": {
        "id": "98UEUItEHBwZ",
        "colab_type": "code",
        "colab": {
          "base_uri": "https://localhost:8080/",
          "height": 255
        },
        "outputId": "63baa1f4-35c5-4b04-ef16-e06f40b5ba2c"
      },
      "source": [
        "print(data1)\n",
        "print(data.shape)"
      ],
      "execution_count": 16,
      "outputs": [
        {
          "output_type": "stream",
          "text": [
            "[[-0.8469638  -1.46743405  1.96785246 ... -1.7247022  -1.3615001\n",
            "   1.16578116]\n",
            " [-0.8469638  -1.46743405  1.96785246 ... -1.66416852 -0.77129669\n",
            "   1.196048  ]\n",
            " [-0.8469638  -1.51283431  1.96785246 ... -1.7247022  -0.77129669\n",
            "   1.13551432]\n",
            " ...\n",
            " [-0.8469638  -1.34636668  1.87705194 ... -1.70956878  0.65124486\n",
            "   0.69664512]\n",
            " [-0.8469638  -1.46743405  1.69545089 ... -1.66416852  0.30317618\n",
            "   0.7571788 ]\n",
            " [-0.89236406 -1.67930194  1.87705194 ... -1.70956878  0.30317618\n",
            "   0.77231222]]\n",
            "(4096, 160)\n"
          ],
          "name": "stdout"
        }
      ]
    },
    {
      "cell_type": "markdown",
      "metadata": {
        "id": "dJFzODGQ_Qa5",
        "colab_type": "text"
      },
      "source": [
        "# Challenge 2 - Using PCA\n",
        "\n",
        "Now that we have created a standardized matrix of cats and dogs, we'll find the two most important components in the data.\n",
        "\n",
        "Load the `PCA` function from `statsmodels` (read about this function [here](https://www.statsmodels.org/dev/generated/statsmodels.multivariate.pca.PCA.html)) and apply the function to our standarized data. Create a PCA model with two components."
      ]
    },
    {
      "cell_type": "code",
      "metadata": {
        "id": "whRuz3hW_Qa6",
        "colab_type": "code",
        "colab": {
          "base_uri": "https://localhost:8080/",
          "height": 51
        },
        "outputId": "c2e67803-9861-4c0f-a119-b961158abd6f"
      },
      "source": [
        "from statsmodels.multivariate.pca import PCA"
      ],
      "execution_count": 17,
      "outputs": [
        {
          "output_type": "stream",
          "text": [
            "/usr/local/lib/python3.6/dist-packages/statsmodels/tools/_testing.py:19: FutureWarning: pandas.util.testing is deprecated. Use the functions in the public API at pandas.testing instead.\n",
            "  import pandas.util.testing as tm\n"
          ],
          "name": "stderr"
        }
      ]
    },
    {
      "cell_type": "code",
      "metadata": {
        "id": "_aOgXF-VJPHR",
        "colab_type": "code",
        "colab": {}
      },
      "source": [
        "pc = PCA(data1, ncomp=2)"
      ],
      "execution_count": 46,
      "outputs": []
    },
    {
      "cell_type": "markdown",
      "metadata": {
        "id": "gZbyhKuX_Qa_",
        "colab_type": "text"
      },
      "source": [
        "Use `numpy` to find to transpose the standardized pet array. This will help us compute the projection."
      ]
    },
    {
      "cell_type": "code",
      "metadata": {
        "id": "cZyWnGCK_Qa_",
        "colab_type": "code",
        "colab": {
          "base_uri": "https://localhost:8080/",
          "height": 34
        },
        "outputId": "55e448e4-1304-4689-c161-86620315af46"
      },
      "source": [
        "pc.factors.shape"
      ],
      "execution_count": 47,
      "outputs": [
        {
          "output_type": "execute_result",
          "data": {
            "text/plain": [
              "(4096, 2)"
            ]
          },
          "metadata": {
            "tags": []
          },
          "execution_count": 47
        }
      ]
    },
    {
      "cell_type": "code",
      "metadata": {
        "id": "9eOHd6Gptfpa",
        "colab_type": "code",
        "colab": {
          "base_uri": "https://localhost:8080/",
          "height": 136
        },
        "outputId": "652aba6b-1d86-4120-e83f-b6de8f376be9"
      },
      "source": [
        "pc.factors"
      ],
      "execution_count": 53,
      "outputs": [
        {
          "output_type": "execute_result",
          "data": {
            "text/plain": [
              "array([[0.02977581, 0.03592827],\n",
              "       [0.03020944, 0.03486312],\n",
              "       [0.03024206, 0.03550568],\n",
              "       ...,\n",
              "       [0.00529748, 0.01165574],\n",
              "       [0.0046119 , 0.01141205],\n",
              "       [0.00384231, 0.01182373]])"
            ]
          },
          "metadata": {
            "tags": []
          },
          "execution_count": 53
        }
      ]
    },
    {
      "cell_type": "markdown",
      "metadata": {
        "id": "cDRrcghh_QbD",
        "colab_type": "text"
      },
      "source": [
        "Find the dot product of the transposed standardized pet matrix and the `factors` of the `PCA` model found above. This will be the projection onto 2 dimensions. This means that each cat and dog image will now only have two columns instead of 4096."
      ]
    },
    {
      "cell_type": "code",
      "metadata": {
        "id": "yJ3RxRqIs2Om",
        "colab_type": "code",
        "colab": {}
      },
      "source": [
        "producto=np.dot(data1.T,pc.factors)"
      ],
      "execution_count": 55,
      "outputs": []
    },
    {
      "cell_type": "markdown",
      "metadata": {
        "id": "8jf7n0Z0_QbK",
        "colab_type": "text"
      },
      "source": [
        "# Challenge 3 - Plotting the Data\n",
        "\n",
        "Now that we have reduced our cats and dogs arrays, we can easily plot the data in a way that the human eye can understand. We can look at this plot to see whether there are differences between the cat and dog images. \n",
        "\n",
        "In the cell below, turn the two dimensional projection into a pandas dataframe and name the columns `pc1`, and `pc2` respectively."
      ]
    },
    {
      "cell_type": "code",
      "metadata": {
        "id": "hlMRkR9p_QbE",
        "colab_type": "code",
        "colab": {
          "base_uri": "https://localhost:8080/",
          "height": 419
        },
        "outputId": "007616cd-8ae2-4ac9-8fcc-3f8165bc2069"
      },
      "source": [
        "df=pd.DataFrame(producto,columns=[\"pc1\",\"pc2\"])\n",
        "df"
      ],
      "execution_count": 70,
      "outputs": [
        {
          "output_type": "execute_result",
          "data": {
            "text/html": [
              "<div>\n",
              "<style scoped>\n",
              "    .dataframe tbody tr th:only-of-type {\n",
              "        vertical-align: middle;\n",
              "    }\n",
              "\n",
              "    .dataframe tbody tr th {\n",
              "        vertical-align: top;\n",
              "    }\n",
              "\n",
              "    .dataframe thead th {\n",
              "        text-align: right;\n",
              "    }\n",
              "</style>\n",
              "<table border=\"1\" class=\"dataframe\">\n",
              "  <thead>\n",
              "    <tr style=\"text-align: right;\">\n",
              "      <th></th>\n",
              "      <th>pc1</th>\n",
              "      <th>pc2</th>\n",
              "    </tr>\n",
              "  </thead>\n",
              "  <tbody>\n",
              "    <tr>\n",
              "      <th>0</th>\n",
              "      <td>-15.054035</td>\n",
              "      <td>13.672822</td>\n",
              "    </tr>\n",
              "    <tr>\n",
              "      <th>1</th>\n",
              "      <td>-41.400567</td>\n",
              "      <td>0.850120</td>\n",
              "    </tr>\n",
              "    <tr>\n",
              "      <th>2</th>\n",
              "      <td>70.137190</td>\n",
              "      <td>5.464748</td>\n",
              "    </tr>\n",
              "    <tr>\n",
              "      <th>3</th>\n",
              "      <td>26.662361</td>\n",
              "      <td>-0.868608</td>\n",
              "    </tr>\n",
              "    <tr>\n",
              "      <th>4</th>\n",
              "      <td>-26.237933</td>\n",
              "      <td>15.218803</td>\n",
              "    </tr>\n",
              "    <tr>\n",
              "      <th>...</th>\n",
              "      <td>...</td>\n",
              "      <td>...</td>\n",
              "    </tr>\n",
              "    <tr>\n",
              "      <th>155</th>\n",
              "      <td>30.768063</td>\n",
              "      <td>4.533826</td>\n",
              "    </tr>\n",
              "    <tr>\n",
              "      <th>156</th>\n",
              "      <td>29.297374</td>\n",
              "      <td>-7.643200</td>\n",
              "    </tr>\n",
              "    <tr>\n",
              "      <th>157</th>\n",
              "      <td>-11.184693</td>\n",
              "      <td>-46.769431</td>\n",
              "    </tr>\n",
              "    <tr>\n",
              "      <th>158</th>\n",
              "      <td>-2.990005</td>\n",
              "      <td>-29.605395</td>\n",
              "    </tr>\n",
              "    <tr>\n",
              "      <th>159</th>\n",
              "      <td>40.643537</td>\n",
              "      <td>2.789778</td>\n",
              "    </tr>\n",
              "  </tbody>\n",
              "</table>\n",
              "<p>160 rows × 2 columns</p>\n",
              "</div>"
            ],
            "text/plain": [
              "           pc1        pc2\n",
              "0   -15.054035  13.672822\n",
              "1   -41.400567   0.850120\n",
              "2    70.137190   5.464748\n",
              "3    26.662361  -0.868608\n",
              "4   -26.237933  15.218803\n",
              "..         ...        ...\n",
              "155  30.768063   4.533826\n",
              "156  29.297374  -7.643200\n",
              "157 -11.184693 -46.769431\n",
              "158  -2.990005 -29.605395\n",
              "159  40.643537   2.789778\n",
              "\n",
              "[160 rows x 2 columns]"
            ]
          },
          "metadata": {
            "tags": []
          },
          "execution_count": 70
        }
      ]
    },
    {
      "cell_type": "markdown",
      "metadata": {
        "id": "_rPDmjfP_QbP",
        "colab_type": "text"
      },
      "source": [
        "Create a labels list. This list will be of size 160. The first 80 elements in the list will be the word `blue`, and the last 80 elements will be `red`. This will ensure that all dog observations will be colored in blue and all cats will be colored in red. Name this list `colors`."
      ]
    },
    {
      "cell_type": "code",
      "metadata": {
        "id": "JJvNHbZu_QbQ",
        "colab_type": "code",
        "colab": {}
      },
      "source": [
        "blue=[\"blue\"]*80\n",
        "red=[\"red\"]*80\n",
        "colors=blue+red"
      ],
      "execution_count": 67,
      "outputs": []
    },
    {
      "cell_type": "markdown",
      "metadata": {
        "id": "aPohFRhD_QbW",
        "colab_type": "text"
      },
      "source": [
        "Create a scatter plot of `pc1` and `pc2` below. Use the `colors` list above to color the observations by setting `c=colors`."
      ]
    },
    {
      "cell_type": "code",
      "metadata": {
        "id": "OzJTJuZ3_QbW",
        "colab_type": "code",
        "colab": {
          "base_uri": "https://localhost:8080/",
          "height": 282
        },
        "outputId": "486c5dc4-e351-496e-f9c9-e01cbf9f7fe2"
      },
      "source": [
        "plt.style.use(\"ggplot\")\n",
        "plt.scatter(df.pc1,df.pc2,c=colors)"
      ],
      "execution_count": 73,
      "outputs": [
        {
          "output_type": "execute_result",
          "data": {
            "text/plain": [
              "<matplotlib.collections.PathCollection at 0x7f3593a5e4e0>"
            ]
          },
          "metadata": {
            "tags": []
          },
          "execution_count": 73
        },
        {
          "output_type": "display_data",
          "data": {
            "image/png": "[encoded data removed]",
            "text/plain": [
              "<Figure size 432x288 with 1 Axes>"
            ]
          },
          "metadata": {
            "tags": []
          }
        }
      ]
    },
    {
      "cell_type": "markdown",
      "metadata": {
        "id": "Jx03KcdK_Qba",
        "colab_type": "text"
      },
      "source": [
        "Do you see a clear separation between cats and dogs? Write your answer below."
      ]
    },
    {
      "cell_type": "code",
      "metadata": {
        "id": "fvAXcq_2_Qbb",
        "colab_type": "code",
        "colab": {}
      },
      "source": [
        "##Parece que los perros están mayormente en la parte superior de la gráfica y los gatos debajo"
      ],
      "execution_count": 74,
      "outputs": []
    },
    {
      "cell_type": "code",
      "metadata": {
        "id": "ORz2Jhhw_Qbi",
        "colab_type": "code",
        "colab": {}
      },
      "source": [
        ""
      ],
      "execution_count": null,
      "outputs": []
    }
  ]
}